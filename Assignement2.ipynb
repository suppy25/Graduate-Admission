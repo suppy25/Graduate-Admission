{
 "cells": [
  {
   "cell_type": "markdown",
   "metadata": {},
   "source": [
    "# Assignment 2"
   ]
  },
  {
   "cell_type": "markdown",
   "metadata": {},
   "source": [
    "# Graduate Admission"
   ]
  },
  {
   "cell_type": "markdown",
   "metadata": {},
   "source": [
    "### This dataset is created for prediction of Graduate Admissions from an Indian perspective."
   ]
  },
  {
   "cell_type": "markdown",
   "metadata": {},
   "source": [
    "The dataset contains several parameters which are considered important during the application for Masters Programs.\n",
    "The parameters included are :\n",
    "\n",
    "* GRE Scores ( out of 340 )\n",
    "* TOEFL Scores ( out of 120 )\n",
    "* University Rating ( out of 5 )\n",
    "* Statement of Purpose and Letter of Recommendation Strength ( out of 5 )\n",
    "* Undergraduate GPA ( out of 10 )\n",
    "* Research Experience ( either 0 or 1 )\n",
    "* Chance of Admit ( ranging from 0 to 1 )"
   ]
  },
  {
   "cell_type": "markdown",
   "metadata": {},
   "source": [
    "# Import the Required Libraries"
   ]
  },
  {
   "cell_type": "code",
   "execution_count": 1,
   "metadata": {},
   "outputs": [],
   "source": [
    "import matplotlib.pyplot as plt\n",
    "import numpy as np\n",
    "import pandas as pd\n",
    "from sklearn.model_selection import train_test_split\n",
    "import random"
   ]
  },
  {
   "cell_type": "code",
   "execution_count": 2,
   "metadata": {},
   "outputs": [
    {
     "data": {
      "text/plain": [
       "array([['Serial No.', 'GRE Score', 'TOEFL Score', ..., 'CGPA',\n",
       "        'Research', 'Chance of Admit'],\n",
       "       ['1', '337', '118', ..., '9.65', '1', '0.92'],\n",
       "       ['2', '324', '107', ..., '8.87', '1', '0.76'],\n",
       "       ...,\n",
       "       ['398', '330', '116', ..., '9.45', '1', '0.91'],\n",
       "       ['399', '312', '103', ..., '8.78', '0', '0.67'],\n",
       "       ['400', '333', '117', ..., '9.66', '1', '0.95']], dtype='<U17')"
      ]
     },
     "execution_count": 2,
     "metadata": {},
     "output_type": "execute_result"
    }
   ],
   "source": [
    "df = np.genfromtxt('Admission_Predict.csv',delimiter = ',', dtype=str);\n",
    "df"
   ]
  },
  {
   "cell_type": "code",
   "execution_count": 3,
   "metadata": {},
   "outputs": [
    {
     "name": "stdout",
     "output_type": "stream",
     "text": [
      "['GRE Score' 'TOEFL Score' 'University Rating' 'SOP' 'LOR ' 'CGPA'\n",
      " 'Research' 'Chance of Admit']\n",
      "[[337.   118.     4.   ...   9.65   1.     0.92]\n",
      " [324.   107.     4.   ...   8.87   1.     0.76]\n",
      " [316.   104.     3.   ...   8.     1.     0.72]\n",
      " ...\n",
      " [330.   116.     4.   ...   9.45   1.     0.91]\n",
      " [312.   103.     3.   ...   8.78   0.     0.67]\n",
      " [333.   117.     4.   ...   9.66   1.     0.95]]\n"
     ]
    }
   ],
   "source": [
    "headers = df[0,1:]; # TO not take serial no\n",
    "print(headers)\n",
    "data = np.array(df[1:,1:], dtype=float); # This will take from the GRE Score\n",
    "print(data)"
   ]
  },
  {
   "cell_type": "code",
   "execution_count": 4,
   "metadata": {},
   "outputs": [],
   "source": [
    "data_norm = (data-np.mean(data, axis = 0))/np.std(data, axis = 0)"
   ]
  },
  {
   "cell_type": "code",
   "execution_count": 5,
   "metadata": {},
   "outputs": [],
   "source": [
    "# Extract y from data\n",
    "\n",
    "y_label = 'Chance of Admit';\n",
    "y_index = np.where(headers == y_label)[0][0];\n",
    "y = data_norm[:,y_index];\n",
    "\n",
    "# Extract x from data\n",
    "\n",
    "X = data_norm[:,0:y_index];"
   ]
  },
  {
   "cell_type": "code",
   "execution_count": 6,
   "metadata": {},
   "outputs": [],
   "source": [
    "# Insert column of 1's for intercept column\n",
    "X = np.insert(X, 0, 1, axis=1) # added the intercept"
   ]
  },
  {
   "cell_type": "code",
   "execution_count": 7,
   "metadata": {},
   "outputs": [
    {
     "name": "stdout",
     "output_type": "stream",
     "text": [
      "(400, 8)\n"
     ]
    }
   ],
   "source": [
    "print(X.shape)"
   ]
  },
  {
   "cell_type": "code",
   "execution_count": 8,
   "metadata": {},
   "outputs": [
    {
     "name": "stdout",
     "output_type": "stream",
     "text": [
      "(400,)\n"
     ]
    }
   ],
   "source": [
    "print(y.shape)"
   ]
  },
  {
   "cell_type": "code",
   "execution_count": 9,
   "metadata": {},
   "outputs": [
    {
     "name": "stdout",
     "output_type": "stream",
     "text": [
      "[1.         1.76210664 1.74697064 0.79882862 1.09386422 1.16732114\n",
      " 1.76481828 0.90911166]\n"
     ]
    }
   ],
   "source": [
    "print(X[0])"
   ]
  },
  {
   "cell_type": "code",
   "execution_count": 10,
   "metadata": {},
   "outputs": [],
   "source": [
    "m = X.shape[0]\n",
    "n = X.shape[1]"
   ]
  },
  {
   "cell_type": "code",
   "execution_count": 11,
   "metadata": {},
   "outputs": [],
   "source": [
    "# Partion data into training and test datasets\n",
    "\n",
    "idx = np.arange(0,m)\n",
    "random.shuffle(idx)\n",
    "\n",
    "percent_train = .6\n",
    "m_train = int(m * percent_train)\n",
    "train_idx = idx[0:m_train]\n",
    "test_idx = idx[m_train:m+1]\n",
    "X_train = data[train_idx,1:y_index];\n",
    "X_test = data[test_idx,1:y_index];\n",
    "\n",
    "y_train = data[train_idx,y_index];\n",
    "y_test = data[test_idx,y_index];\n"
   ]
  },
  {
   "cell_type": "code",
   "execution_count": 12,
   "metadata": {},
   "outputs": [],
   "source": [
    "# Cost function normalized by number of examples\n",
    "\n",
    "def H(theta,X,y):\n",
    "    return 1 / 2 / X.shape[1] * (h(X,theta)-y).T.dot(h(X,theta)-y)"
   ]
  },
  {
   "cell_type": "code",
   "execution_count": 13,
   "metadata": {},
   "outputs": [
    {
     "data": {
      "text/plain": [
       "array([ 8.70408612e-16,  1.39783600e-01,  1.24258432e-01,  4.58476504e-02,\n",
       "       -2.33355774e-02,  1.40830779e-01,  4.97342141e-01,  8.57053356e-02])"
      ]
     },
     "execution_count": 13,
     "metadata": {},
     "output_type": "execute_result"
    }
   ],
   "source": [
    "# Solve the normal equations\n",
    "\n",
    "def regress(X, y):\n",
    "    cov = np.dot(X.T, X)\n",
    "    cov_inv = np.linalg.inv(cov)\n",
    "    theta = np.dot(cov_inv, np.dot(X.T, y))\n",
    "    return theta\n",
    "regress(X,y)"
   ]
  },
  {
   "cell_type": "code",
   "execution_count": 14,
   "metadata": {},
   "outputs": [],
   "source": [
    "# Cost function normalized by number of examples\n",
    "\n",
    "def J(theta,X,y):\n",
    "    return 1 / 2 / X.shape[1] * (h(X,theta)-y).T.dot(h(X,theta)-y)\n",
    "\n",
    "# Get design matrix for polynomial model of degree d\n",
    "\n",
    "def x_polynomial(x, d):\n",
    "    a = np.ones((x.shape[0], 1))    \n",
    "    for i in range(d):\n",
    "        a = np.concatenate((a,x**(i+1)), axis = 1)\n",
    "    return a\n"
   ]
  },
  {
   "cell_type": "code",
   "execution_count": 15,
   "metadata": {},
   "outputs": [],
   "source": [
    "# Build models of degree 1 to max_degree\n",
    "\n",
    "max_degree = 2\n",
    "\n",
    "J_train = np.zeros(max_degree)\n",
    "J_test = np.zeros(max_degree)\n"
   ]
  },
  {
   "cell_type": "markdown",
   "metadata": {},
   "source": [
    "# Split the data into training and tests"
   ]
  },
  {
   "cell_type": "code",
   "execution_count": 16,
   "metadata": {},
   "outputs": [
    {
     "name": "stdout",
     "output_type": "stream",
     "text": [
      "(320, 8)\n",
      "(80, 8)\n",
      "(320,)\n",
      "(80,)\n"
     ]
    }
   ],
   "source": [
    "# splits the training and test data set in 80% : 20%\n",
    "# assign random_state to any value.This ensures consistency.\n",
    "X_train, X_test, y_train, y_test = train_test_split(X, y, test_size = 0.2, random_state=5)\n",
    "print(X_train.shape)\n",
    "print(X_test.shape)\n",
    "print(y_train.shape)\n",
    "print(y_test.shape)"
   ]
  },
  {
   "cell_type": "markdown",
   "metadata": {},
   "source": [
    "# Linear Regression"
   ]
  },
  {
   "cell_type": "code",
   "execution_count": 17,
   "metadata": {},
   "outputs": [
    {
     "data": {
      "text/plain": [
       "LinearRegression()"
      ]
     },
     "execution_count": 17,
     "metadata": {},
     "output_type": "execute_result"
    }
   ],
   "source": [
    "from sklearn.linear_model import LinearRegression\n",
    "from sklearn.metrics import mean_squared_error, r2_score\n",
    "\n",
    "lin_model = LinearRegression()\n",
    "lin_model.fit(X_train, y_train)"
   ]
  },
  {
   "cell_type": "code",
   "execution_count": 18,
   "metadata": {},
   "outputs": [
    {
     "name": "stdout",
     "output_type": "stream",
     "text": [
      "The model performance for training set\n",
      "--------------------------------------\n",
      "RMSE is 0.4535600939850745\n",
      "R2 score is 0.8069022125298158\n",
      "\n",
      "\n",
      "The model performance for testing set\n",
      "--------------------------------------\n",
      "RMSE is 0.40541316382029674\n",
      "R2 score is 0.772829262603884\n"
     ]
    }
   ],
   "source": [
    "# model evaluation for training set\n",
    "\n",
    "y_train_predict = lin_model.predict(X_train)\n",
    "rmse = (np.sqrt(mean_squared_error(y_train, y_train_predict)))\n",
    "r2 = r2_score(y_train, y_train_predict)\n",
    "\n",
    "print(\"The model performance for training set\")\n",
    "print(\"--------------------------------------\")\n",
    "print('RMSE is {}'.format(rmse))\n",
    "print('R2 score is {}'.format(r2))\n",
    "print(\"\\n\")\n",
    "\n",
    "# model evaluation for testing set\n",
    "\n",
    "y_test_predict = lin_model.predict(X_test)\n",
    "# root mean square error of the model\n",
    "rmse = (np.sqrt(mean_squared_error(y_test, y_test_predict)))\n",
    "\n",
    "# r-squared score of the model\n",
    "r2 = r2_score(y_test, y_test_predict)\n",
    "\n",
    "print(\"The model performance for testing set\")\n",
    "print(\"--------------------------------------\")\n",
    "print('RMSE is {}'.format(rmse))\n",
    "print('R2 score is {}'.format(r2))"
   ]
  },
  {
   "cell_type": "code",
   "execution_count": 19,
   "metadata": {},
   "outputs": [
    {
     "data": {
      "image/png": "[encoded data removed]",
      "text/plain": [
       "<Figure size 432x288 with 1 Axes>"
      ]
     },
     "metadata": {
      "needs_background": "light"
     },
     "output_type": "display_data"
    }
   ],
   "source": [
    "# plotting the y_test vs y_pred\n",
    "# ideally should have been a straight line\n",
    "plt.scatter(y_test, y_test_predict)\n",
    "plt.show()\n"
   ]
  },
  {
   "cell_type": "markdown",
   "metadata": {},
   "source": [
    "# Polynomial Regression"
   ]
  },
  {
   "cell_type": "markdown",
   "metadata": {},
   "source": [
    "Let's apply the Polynomial Regression with degree 2 and test.\n",
    "\n",
    "To generate the higher order degrees, we use PolyniomialFeatures class from sklearn library."
   ]
  },
  {
   "cell_type": "code",
   "execution_count": 22,
   "metadata": {},
   "outputs": [],
   "source": [
    "from sklearn.preprocessing import PolynomialFeatures\n",
    "\n",
    "def polynomial_regression_model(degree):\n",
    "  \"Creates a polynomial regression model for the given degree\"\n",
    "  poly_features = PolynomialFeatures(degree=degree)\n",
    "  \n",
    "  # transform the features to higher degree features.\n",
    "  X_train_poly = poly_features.fit_transform(X_train)\n",
    "  \n",
    "  # fit the transformed features to Linear Regression\n",
    "  poly_model = LinearRegression()\n",
    "  poly_model.fit(X_train_poly, y_train)\n",
    "  \n",
    "  # predicting on training data-set\n",
    "  y_train_predicted = poly_model.predict(X_train_poly)\n",
    "  \n",
    "  # predicting on test data-set\n",
    "  y_test_predict = poly_model.predict(poly_features.fit_transform(X_test))\n",
    "  \n",
    "  # evaluating the model on training dataset\n",
    "  rmse_train = np.sqrt(mean_squared_error(y_train, y_train_predicted))\n",
    "  r2_train = r2_score(y_train, y_train_predicted)\n",
    "  \n",
    "  # evaluating the model on test dataset\n",
    "  rmse_test = np.sqrt(mean_squared_error(y_test, y_test_predict))\n",
    "  r2_test = r2_score(y_test, y_test_predict)\n",
    "  \n",
    "  print(\"The model performance for the training set\")\n",
    "  print(\"-------------------------------------------\")\n",
    "  print(\"RMSE of training set is {}\".format(rmse_train))\n",
    "  print(\"R2 score of training set is {}\".format(r2_train))\n",
    "  \n",
    "  print(\"\\n\")\n",
    "  print(\"The model performance for the test set\")\n",
    "  print(\"-------------------------------------------\")\n",
    "  print(\"RMSE of test set is {}\".format(rmse_test))\n",
    "  print(\"R2 score of test set is {}\".format(r2_test))"
   ]
  },
  {
   "cell_type": "code",
   "execution_count": 23,
   "metadata": {},
   "outputs": [
    {
     "name": "stdout",
     "output_type": "stream",
     "text": [
      "The model performance for the training set\n",
      "-------------------------------------------\n",
      "RMSE of training set is 0.42904975210889146\n",
      "R2 score of training set is 0.8272082770286167\n",
      "\n",
      "\n",
      "The model performance for the test set\n",
      "-------------------------------------------\n",
      "RMSE of test set is 0.4071697317313779\n",
      "R2 score of test set is 0.7708564341794006\n"
     ]
    }
   ],
   "source": [
    "polynomial_regression_model(2)"
   ]
  },
  {
   "cell_type": "code",
   "execution_count": null,
   "metadata": {},
   "outputs": [],
   "source": []
  }
 ],
 "metadata": {
  "kernelspec": {
   "display_name": "Python 3",
   "language": "python",
   "name": "python3"
  },
  "language_info": {
   "codemirror_mode": {
    "name": "ipython",
    "version": 3
   },
   "file_extension": ".py",
   "mimetype": "text/x-python",
   "name": "python",
   "nbconvert_exporter": "python",
   "pygments_lexer": "ipython3",
   "version": "3.8.3"
  }
 },
 "nbformat": 4,
 "nbformat_minor": 4
}
